{
 "cells": [
  {
   "cell_type": "code",
   "execution_count": 40,
   "id": "39b0c406",
   "metadata": {
    "scrolled": false
   },
   "outputs": [],
   "source": [
    "import sklearn\n",
    "import scipy.stats\n",
    "from sklearn.metrics import make_scorer\n",
    "from sklearn.model_selection import RandomizedSearchCV\n",
    "\n",
    "import sklearn_crfsuite\n",
    "from sklearn_crfsuite import scorers,CRF\n",
    "from sklearn_crfsuite.metrics import flat_classification_report\n",
    "from sklearn_crfsuite import metrics\n",
    "from sklearn.model_selection import cross_val_predict, cross_val_score\n",
    "\n",
    "import pandas as pd\n",
    "import numpy as np\n",
    "import csv"
   ]
  },
  {
   "cell_type": "code",
   "execution_count": 41,
   "id": "dc635ffc",
   "metadata": {},
   "outputs": [],
   "source": [
    "def ez_pandas_reader(fname):\n",
    "    df = pd.read_csv(fname)\n",
    "    df = df.set_index(\"id\")\n",
    "    return df"
   ]
  },
  {
   "cell_type": "code",
   "execution_count": 42,
   "id": "701d8e1d",
   "metadata": {},
   "outputs": [],
   "source": [
    "def convert(path):\n",
    "    vals = []\n",
    "    with open(path, 'r',) as f:\n",
    "        reader = csv.reader(f, delimiter='\\t')\n",
    "        temp = []\n",
    "        next(reader)\n",
    "        for line in enumerate(reader):\n",
    "            if not line[1]:\n",
    "                vals.append(temp)\n",
    "                temp = []\n",
    "            else:\n",
    "                t = [ '{}'.format(x) for x in list(csv.reader([line[1][0]], delimiter=',', quotechar='\"'))[0]]\n",
    "                x = [t[1], \"\", t[2]]\n",
    "                temp.append(tuple(x))\n",
    "        vals.append(temp)\n",
    "    return vals"
   ]
  },
  {
   "cell_type": "code",
   "execution_count": 43,
   "id": "ae92d30c",
   "metadata": {},
   "outputs": [],
   "source": [
    "def test_convert(path):\n",
    "    vals = []\n",
    "    with open(path, 'r',) as f:\n",
    "        reader = csv.reader(f, delimiter='\\t')\n",
    "        temp = []\n",
    "        next(reader)\n",
    "        for line in enumerate(reader):\n",
    "            if not line[1]:\n",
    "                vals.append(temp)\n",
    "                temp = []\n",
    "            else:\n",
    "                t = [ '{}'.format(x) for x in list(csv.reader([line[1][0]], delimiter=',', quotechar='\"'))[0] ]\n",
    "                temp.append(tuple([t[1],\"\"]))\n",
    "        vals.append(temp)\n",
    "    return vals"
   ]
  },
  {
   "cell_type": "code",
   "execution_count": 44,
   "id": "9b204813",
   "metadata": {
    "scrolled": false
   },
   "outputs": [],
   "source": [
    "train = convert(\"/Users/johnsonchan/Documents/Coding/Class/CMPSC 190I W/HW 4/HW4_spanish_ner_data/train.csv\")"
   ]
  },
  {
   "cell_type": "code",
   "execution_count": 45,
   "id": "448a2098",
   "metadata": {},
   "outputs": [],
   "source": [
    "validate = convert(\"/Users/johnsonchan/Documents/Coding/Class/CMPSC 190I W/HW 4/HW4_spanish_ner_data/validation.csv\")"
   ]
  },
  {
   "cell_type": "code",
   "execution_count": 46,
   "id": "df866491",
   "metadata": {},
   "outputs": [],
   "source": [
    "test = test_convert(\"/Users/johnsonchan/Documents/Coding/Class/CMPSC 190I W/HW 4/HW4_spanish_ner_data/test_noans.csv\")"
   ]
  },
  {
   "cell_type": "code",
   "execution_count": 47,
   "id": "8489d7b2",
   "metadata": {},
   "outputs": [],
   "source": [
    "labelToType = {\n",
    "    \"B-LOC\": 0,\n",
    "    \"B-MISC\": 1,\n",
    "    \"B-ORG\": 2,\n",
    "    \"B-PER\": 3,\n",
    "    \"I-LOC\": 4,\n",
    "    \"I-MISC\": 5,\n",
    "    \"I-ORG\": 6,\n",
    "    \"I-PER\": 7,\n",
    "    \"O\": 8\n",
    "}"
   ]
  },
  {
   "cell_type": "code",
   "execution_count": 48,
   "id": "9bd4e95b",
   "metadata": {},
   "outputs": [],
   "source": [
    "def word2features(sent, i):\n",
    "    word = sent[i][0]\n",
    "    postag = sent[i][1]\n",
    "    features = [\n",
    "        'bias',\n",
    "        'word.lower=' + word.lower(),\n",
    "        'word.isspace=%s' % word.isspace(),\n",
    "        'word.isupper=%s' % word.isupper(),\n",
    "        'word.islower=%s' % word.islower(),\n",
    "        'word.istitle=%s' % word.istitle(),\n",
    "        'word.isdigit=%s' % word.isdigit(),\n",
    "        'postag=' + postag,\n",
    "        'postag[:2]=' + postag[:2],\n",
    "    ]\n",
    "    features.extend([\n",
    "        'word.lower=' + word.lower(),\n",
    "        'word.upper=' + word.upper(),\n",
    "        'word.title=' + word.title(),\n",
    "        'word[:2]=' + word[:2],\n",
    "        'word[:3]=' + word[:3],\n",
    "        'word[:4]=' + word[:4],\n",
    "        'word[-4:]=' + word[-4:],\n",
    "        'word[-3:]=' + word[-3:],\n",
    "        'word[-2:]=' + word[-2:],\n",
    "    ])\n",
    "    if i > 0:\n",
    "        word1 = sent[i-1][0]\n",
    "        postag1 = sent[i-1][1]\n",
    "        features.extend([\n",
    "            '-1:word.lower=' + word1.lower(),\n",
    "            '-1:word.istitle=%s' % word1.istitle(),\n",
    "            '-1:word.isupper=%s' % word1.isupper(),\n",
    "            '-1:postag=' + postag1,\n",
    "            '-1:postag[:2]=' + postag1[:2],\n",
    "        ])\n",
    "    else:\n",
    "        features.append('BOS')\n",
    "        \n",
    "    if i < len(sent)-1:\n",
    "        word1 = sent[i+1][0]\n",
    "        postag1 = sent[i+1][1]\n",
    "        features.extend([\n",
    "            '+1:word.lower=' + word1.lower(),\n",
    "            '+1:word.istitle=%s' % word1.istitle(),\n",
    "            '+1:word.isupper=%s' % word1.isupper(),\n",
    "            '+1:postag=' + postag1,\n",
    "            '+1:postag[:2]=' + postag1[:2],\n",
    "        ])\n",
    "    else:\n",
    "        features.append('EOS')\n",
    "                \n",
    "    if i > 1:\n",
    "        word2 = sent[i-2][0]\n",
    "        postag2 = sent[i-2][1]\n",
    "        \n",
    "        # Features for the previous two words\n",
    "        features.extend([\n",
    "            '-2:word.lower=' + word2.lower(),\n",
    "            '-2:word.istitle=%s' % word2.istitle(),\n",
    "            '-2:word.isupper=%s' % word2.isupper(),\n",
    "            '-2:postag=' + postag2,\n",
    "            '-2:postag[:2]=' + postag2[:2],\n",
    "        ])\n",
    "    if i < len(sent) - 2:\n",
    "        word3 = sent[i+2][0]\n",
    "        postag3 = sent[i+2][1]\n",
    "        \n",
    "        # Features for the word two positions ahead\n",
    "        features.extend([\n",
    "            '+2:word.lower=' + word3.lower(),\n",
    "            '+2:word.istitle=%s' % word3.istitle(),\n",
    "            '+2:word.isupper=%s' % word3.isupper(),\n",
    "            '+2:postag=' + postag3,\n",
    "            '+2:postag[:2]=' + postag3[:2],\n",
    "        ])\n",
    "    return features\n",
    "\n",
    "def sent2features(sent):\n",
    "    return [word2features(sent, i) for i in range(len(sent))]\n",
    "\n",
    "def sent2labels(sent):\n",
    "    return [label for token, postag, label in sent]\n",
    "\n",
    "def sent2tokens(sent):\n",
    "    return [token for token, postag, label in sent]"
   ]
  },
  {
   "cell_type": "code",
   "execution_count": 49,
   "id": "6116f3c1",
   "metadata": {},
   "outputs": [],
   "source": [
    "X_train = [sent2features(s) for s in train]\n",
    "y_train = [sent2labels(s) for s in train]\n",
    "\n",
    "X_test = [sent2features(s) for s in validate]\n",
    "y_test = [sent2labels(s) for s in validate]\n",
    "\n",
    "X_ans = [sent2features(s) for s in test]"
   ]
  },
  {
   "cell_type": "code",
   "execution_count": 11,
   "id": "b52f8a8b",
   "metadata": {
    "scrolled": false
   },
   "outputs": [],
   "source": [
    "crf = sklearn_crfsuite.CRF(\n",
    "    algorithm='lbfgs',\n",
    "    max_iterations=100,\n",
    "    all_possible_transitions=True\n",
    ")\n",
    "params_space = {\n",
    "    'c1': scipy.stats.expon(scale=0.1),\n",
    "    'c2': scipy.stats.expon(scale=0.01),\n",
    "}\n",
    "\n",
    "# use the same metric for evaluation\n",
    "f1_scorer = make_scorer(metrics.flat_f1_score,\n",
    "                        average='weighted', labels=labels, zero_division=1)\n",
    "\n",
    "# search\n",
    "rs = RandomizedSearchCV(crf, params_space,\n",
    "                        cv=10,\n",
    "                        verbose=1,\n",
    "                        n_jobs=-1,\n",
    "                        n_iter=100,\n",
    "                        scoring=f1_scorer)\n",
    "rs.fit(X_train, y_train)"
   ]
  },
  {
   "cell_type": "code",
   "execution_count": 20,
   "id": "c99c267f",
   "metadata": {},
   "outputs": [],
   "source": [
    "labels = [\"B-LOC\", \"B-MISC\",\"B-ORG\", \"B-PER\", \"I-LOC\", \"I-MISC\",\"I-ORG\",\"I-PER\"]"
   ]
  },
  {
   "cell_type": "code",
   "execution_count": 21,
   "id": "dee7a533",
   "metadata": {},
   "outputs": [
    {
     "data": {
      "text/plain": [
       "0.7698380092466075"
      ]
     },
     "execution_count": 21,
     "metadata": {},
     "output_type": "execute_result"
    }
   ],
   "source": [
    "crf_new = rs.best_estimator_\n",
    "y_pred_n = crf_new.predict(X_test)\n",
    "metrics.flat_f1_score(y_test, y_pred_n,\n",
    "                      average='weighted', labels=labels)"
   ]
  },
  {
   "cell_type": "code",
   "execution_count": 22,
   "id": "ade23a1b",
   "metadata": {},
   "outputs": [],
   "source": [
    "y_pred_final_n = crf_new.predict(X_ans)"
   ]
  },
  {
   "cell_type": "code",
   "execution_count": 23,
   "id": "36bc5f84",
   "metadata": {},
   "outputs": [],
   "source": [
    "test_noans = ez_pandas_reader(\"/Users/johnsonchan/Documents/Coding/Class/CMPSC 190I W/HW 4/HW4_spanish_ner_data/test_noans.csv\")"
   ]
  },
  {
   "cell_type": "code",
   "execution_count": 38,
   "id": "2e45efcd",
   "metadata": {},
   "outputs": [],
   "source": [
    "y_pred_to_label_n = []\n",
    "for i in y_pred_final_n:\n",
    "    for j in i:\n",
    "        y_pred_to_label.append(labelToType[j])"
   ]
  },
  {
   "cell_type": "code",
   "execution_count": 39,
   "id": "bec6a0c7",
   "metadata": {},
   "outputs": [],
   "source": [
    "test_ans = test_noans.copy()\n",
    "for i in range(0, len(y_pred_to_label)):\n",
    "    test_ans.loc[i, \"label\"] = str(y_pred_to_label[i])\n",
    "test_ans[\"label\"].to_csv(\"/Users/johnsonchan/Documents/Coding/Class/CMPSC 190I W/HW 4/HW4_spanish_ner_data/test_answer.csv\", header=True)"
   ]
  },
  {
   "cell_type": "code",
   "execution_count": null,
   "id": "bd27081e",
   "metadata": {},
   "outputs": [],
   "source": []
  }
 ],
 "metadata": {
  "kernelspec": {
   "display_name": "Python 3 (ipykernel)",
   "language": "python",
   "name": "python3"
  },
  "language_info": {
   "codemirror_mode": {
    "name": "ipython",
    "version": 3
   },
   "file_extension": ".py",
   "mimetype": "text/x-python",
   "name": "python",
   "nbconvert_exporter": "python",
   "pygments_lexer": "ipython3",
   "version": "3.9.13"
  }
 },
 "nbformat": 4,
 "nbformat_minor": 5
}
